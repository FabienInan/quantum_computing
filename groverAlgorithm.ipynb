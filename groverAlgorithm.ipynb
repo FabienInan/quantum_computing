{
 "cells": [
  {
   "cell_type": "code",
   "execution_count": 4,
   "id": "1fe674e8-51a6-488e-8267-038d58979763",
   "metadata": {},
   "outputs": [
    {
     "name": "stdout",
     "output_type": "stream",
     "text": [
      "Winner found at index 5\n",
      "6 calls to oracle\n"
     ]
    }
   ],
   "source": [
    "#classical computing search a element in an unsorted list O(N)\n",
    "\n",
    "list = [1, 3, 7, 2, 9, 5, 4, 8]\n",
    "\n",
    "def oracle(input):\n",
    "    winner = 5\n",
    "    if input is winner:\n",
    "        return True;\n",
    "    return False;\n",
    "\n",
    "for index, number in enumerate(list):\n",
    "    if oracle(number) is True:\n",
    "        print('Winner found at index %i'%index)\n",
    "        print('%i calls to oracle'%(index+1))\n",
    "        break"
   ]
  },
  {
   "cell_type": "code",
   "execution_count": 10,
   "id": "bd5cac97-942d-46b6-9711-c885f4ec7c9d",
   "metadata": {},
   "outputs": [
    {
     "name": "stdout",
     "output_type": "stream",
     "text": [
      "Winner found at index 5\n",
      "6 calls to oracle\n"
     ]
    },
    {
     "data": {
      "image/png": "[encoded data removed]",
      "text/plain": [
       "<Figure size 146.652x144.48 with 1 Axes>"
      ]
     },
     "execution_count": 10,
     "metadata": {},
     "output_type": "execute_result"
    }
   ],
   "source": [
    "#quantum computing search an element in an unsorted list (squareroot(N))\n",
    "from qiskit import *\n",
    "import matplotlib.pyplot as plt\n",
    "import numpy as np\n",
    "\n",
    "oracleGate = QuantumCircuit(2, name='oracleGate')\n",
    "#flipping the sign of the winning state with a controlled Z gate\n",
    "oracleGate.cz(0, 1)\n",
    "oracleGate.to_gate()\n",
    "oracleGate.draw()"
   ]
  },
  {
   "cell_type": "code",
   "execution_count": 11,
   "id": "42c3154d-3203-441f-8ad0-56f2349e5a82",
   "metadata": {},
   "outputs": [
    {
     "data": {
      "image/png": "[encoded data removed]",
      "text/plain": [
       "<Figure size 267.052x204.68 with 1 Axes>"
      ]
     },
     "execution_count": 11,
     "metadata": {},
     "output_type": "execute_result"
    }
   ],
   "source": [
    "#check that the oracle is doing the good thing\n",
    "backend = Aer.get_backend('statevector_simulator')\n",
    "groverCircuit = QuantumCircuit(2, 2)\n",
    "# put the 2 qubits in a superposition state by using Hadamard Gate\n",
    "groverCircuit.h([0, 1])\n",
    "# apply the oracle on the 2 qubits\n",
    "groverCircuit.append(oracleGate, [0, 1])\n",
    "groverCircuit.draw()\n"
   ]
  },
  {
   "cell_type": "code",
   "execution_count": 12,
   "id": "411c3ab9-006f-4336-bdbc-ed4963097227",
   "metadata": {},
   "outputs": [
    {
     "data": {
      "text/plain": [
       "array([ 0.5+0.j,  0.5+0.j,  0.5+0.j, -0.5+0.j])"
      ]
     },
     "execution_count": 12,
     "metadata": {},
     "output_type": "execute_result"
    }
   ],
   "source": [
    "job = execute(groverCircuit, backend)\n",
    "result = job.result()\n",
    "\n",
    "sv = result.get_statevector()\n",
    "np.around(sv, 2)"
   ]
  },
  {
   "cell_type": "code",
   "execution_count": 16,
   "id": "eb381871-0ab5-4b81-9ea1-82e3fbf5173a",
   "metadata": {},
   "outputs": [
    {
     "data": {
      "image/png": "[encoded data removed]",
      "text/plain": [
       "<Figure size 327.252x144.48 with 1 Axes>"
      ]
     },
     "execution_count": 16,
     "metadata": {},
     "output_type": "execute_result"
    }
   ],
   "source": [
    "#now the qubits are in superposition state and the oracle is applied\n",
    "#we need to apply a reflection operator to reveal the probabilities \n",
    "#means we apply amplitude amplification in order to amplify the probability\n",
    "#of the winning state and to reduce the probability of non winning state\n",
    "reflectionGate = QuantumCircuit(2, name='reflectionGate')\n",
    "reflectionGate.h([0, 1])\n",
    "reflectionGate.z([0, 1])\n",
    "reflectionGate.cz(0, 1)\n",
    "reflectionGate.h([0, 1])\n",
    "reflectionGate.to_gate()\n",
    "reflectionGate.draw()"
   ]
  },
  {
   "cell_type": "code",
   "execution_count": 21,
   "id": "161a050b-d484-46aa-b608-aefeea922d2f",
   "metadata": {},
   "outputs": [
    {
     "data": {
      "image/png": "[encoded data removed]",
      "text/plain": [
       "<Figure size 568.052x204.68 with 1 Axes>"
      ]
     },
     "execution_count": 21,
     "metadata": {},
     "output_type": "execute_result"
    }
   ],
   "source": [
    "back_end = Aer.get_backend('qasm_simulator')\n",
    "groverCircuit = QuantumCircuit(2,2)\n",
    "\n",
    "groverCircuit.initialize([0, 0], 1)\n",
    "groverCircuit.h([0,1])\n",
    "groverCircuit.append(oracleGate, [0, 1])\n",
    "groverCircuit.append(reflectionGate, [0, 1])\n",
    "groverCircuit.measure([0, 1], [0,1])\n",
    "groverCircuit.draw()"
   ]
  },
  {
   "cell_type": "code",
   "execution_count": 23,
   "id": "8639e786-9ce1-4c85-a274-4cbeb75ac87e",
   "metadata": {},
   "outputs": [
    {
     "data": {
      "text/plain": [
       "{'11': 1}"
      ]
     },
     "execution_count": 23,
     "metadata": {},
     "output_type": "execute_result"
    }
   ],
   "source": [
    "job=execute(groverCircuit, backend, shots=1)\n",
    "result = job.result()\n",
    "result.get_counts()"
   ]
  },
  {
   "cell_type": "code",
   "execution_count": null,
   "id": "590e1012-f8b1-43e0-b7be-1a3e7c011e31",
   "metadata": {},
   "outputs": [],
   "source": []
  }
 ],
 "metadata": {
  "kernelspec": {
   "display_name": "Qiskit v0.31.0 (ipykernel)",
   "language": "python",
   "name": "python3"
  },
  "language_info": {
   "codemirror_mode": {
    "name": "ipython",
    "version": 3
   },
   "file_extension": ".py",
   "mimetype": "text/x-python",
   "name": "python",
   "nbconvert_exporter": "python",
   "pygments_lexer": "ipython3",
   "version": "3.8.10"
  },
  "widgets": {
   "application/vnd.jupyter.widget-state+json": {
    "state": {
     "01c8b72b5f8a487c8cb735de1517b763": {
      "model_module": "@jupyter-widgets/controls",
      "model_module_version": "1.5.0",
      "model_name": "DescriptionStyleModel",
      "state": {
       "description_width": ""
      }
     },
     "047fb91c5f22474ba478ae96d90357aa": {
      "model_module": "@jupyter-widgets/controls",
      "model_module_version": "1.5.0",
      "model_name": "DescriptionStyleModel",
      "state": {
       "description_width": ""
      }
     },
     "0b75af298ded42a487329a310055c4e9": {
      "model_module": "@jupyter-widgets/controls",
      "model_module_version": "1.5.0",
      "model_name": "HTMLModel",
      "state": {
       "layout": "IPY_MODEL_1985684726b948269cec99148b933b55",
       "style": "IPY_MODEL_01c8b72b5f8a487c8cb735de1517b763",
       "value": "<h5>Queue</h5>"
      }
     },
     "18f194fb828443ab9a38baa2c122488b": {
      "model_module": "@jupyter-widgets/controls",
      "model_module_version": "1.5.0",
      "model_name": "HTMLModel",
      "state": {
       "layout": "IPY_MODEL_38ef56c989c64b468f61eb5daf6ed8d3",
       "style": "IPY_MODEL_f4e6537e0dba462c97f6553dd89c6a3a",
       "value": "<h5>Backend</h5>"
      }
     },
     "1985684726b948269cec99148b933b55": {
      "model_module": "@jupyter-widgets/base",
      "model_module_version": "1.2.0",
      "model_name": "LayoutModel",
      "state": {
       "width": "70px"
      }
     },
     "3473f71729724daca621aa7c285a319b": {
      "model_module": "@jupyter-widgets/controls",
      "model_module_version": "1.5.0",
      "model_name": "HTMLModel",
      "state": {
       "layout": "IPY_MODEL_53b64fbd18f64d958e5a98c4d586f135",
       "style": "IPY_MODEL_047fb91c5f22474ba478ae96d90357aa",
       "value": "<h5>Status</h5>"
      }
     },
     "38ef56c989c64b468f61eb5daf6ed8d3": {
      "model_module": "@jupyter-widgets/base",
      "model_module_version": "1.2.0",
      "model_name": "LayoutModel",
      "state": {
       "width": "145px"
      }
     },
     "415715dd2afb4b13b6faf75f03a48d55": {
      "model_module": "@jupyter-widgets/controls",
      "model_module_version": "1.5.0",
      "model_name": "HTMLModel",
      "state": {
       "layout": "IPY_MODEL_7c2c350cfc484a7dbb4b1dcd4ca8664b",
       "style": "IPY_MODEL_61ba26c8361d4bf0831716b99b54daf6",
       "value": "<h5>Job ID</h5>"
      }
     },
     "53b64fbd18f64d958e5a98c4d586f135": {
      "model_module": "@jupyter-widgets/base",
      "model_module_version": "1.2.0",
      "model_name": "LayoutModel",
      "state": {
       "width": "95px"
      }
     },
     "54b584d001744a608dbdbf801de292c1": {
      "model_module": "@jupyter-widgets/controls",
      "model_module_version": "1.5.0",
      "model_name": "HBoxModel",
      "state": {
       "children": [
        "IPY_MODEL_415715dd2afb4b13b6faf75f03a48d55",
        "IPY_MODEL_18f194fb828443ab9a38baa2c122488b",
        "IPY_MODEL_3473f71729724daca621aa7c285a319b",
        "IPY_MODEL_0b75af298ded42a487329a310055c4e9",
        "IPY_MODEL_7729ccca0c0b4f0b9723201cb976f549"
       ],
       "layout": "IPY_MODEL_eff0b342220740318a09779d3e30b47e"
      }
     },
     "61ba26c8361d4bf0831716b99b54daf6": {
      "model_module": "@jupyter-widgets/controls",
      "model_module_version": "1.5.0",
      "model_name": "DescriptionStyleModel",
      "state": {
       "description_width": ""
      }
     },
     "6e45f56436dc4d5ea4a6deb70155b285": {
      "model_module": "@jupyter-widgets/base",
      "model_module_version": "1.2.0",
      "model_name": "LayoutModel",
      "state": {}
     },
     "7729ccca0c0b4f0b9723201cb976f549": {
      "model_module": "@jupyter-widgets/controls",
      "model_module_version": "1.5.0",
      "model_name": "HTMLModel",
      "state": {
       "layout": "IPY_MODEL_6e45f56436dc4d5ea4a6deb70155b285",
       "style": "IPY_MODEL_79f44936d58b4a9ba89127bdb81fdf46",
       "value": "<h5>Message</h5>"
      }
     },
     "79f44936d58b4a9ba89127bdb81fdf46": {
      "model_module": "@jupyter-widgets/controls",
      "model_module_version": "1.5.0",
      "model_name": "DescriptionStyleModel",
      "state": {
       "description_width": ""
      }
     },
     "7c2c350cfc484a7dbb4b1dcd4ca8664b": {
      "model_module": "@jupyter-widgets/base",
      "model_module_version": "1.2.0",
      "model_name": "LayoutModel",
      "state": {
       "width": "190px"
      }
     },
     "8aeeeae1c50f41329243317134a02874": {
      "model_module": "@jupyter-widgets/controls",
      "model_module_version": "1.5.0",
      "model_name": "GridBoxModel",
      "state": {
       "children": [
        "IPY_MODEL_fb84815e417044a588304d6ff0b29b5e"
       ],
       "layout": "IPY_MODEL_ebdd4a2564d0488781a52ae63c67a164"
      }
     },
     "94b42cfaa00a459e9a4305cc20d9eb70": {
      "model_module": "@jupyter-widgets/base",
      "model_module_version": "1.2.0",
      "model_name": "LayoutModel",
      "state": {
       "grid_area": "right",
       "padding": "0px 0px 0px 0px",
       "width": "70px"
      }
     },
     "bef225e83d3a46bda375b0ac1c225e70": {
      "model_module": "@jupyter-widgets/controls",
      "model_module_version": "1.5.0",
      "model_name": "HTMLModel",
      "state": {
       "layout": "IPY_MODEL_f264ac04afb14b53bbee709bbf483034",
       "style": "IPY_MODEL_e1fc55a49aa24ce3a25b6ba5ee380a00",
       "value": "<p style='font-family: IBM Plex Sans, Arial, Helvetica, sans-serif; font-size: 20px; font-weight: medium;'>Circuit Properties</p>"
      }
     },
     "bf7052cf2c314609a341861aec56ee26": {
      "model_module": "@jupyter-widgets/controls",
      "model_module_version": "1.5.0",
      "model_name": "ButtonStyleModel",
      "state": {}
     },
     "e1fc55a49aa24ce3a25b6ba5ee380a00": {
      "model_module": "@jupyter-widgets/controls",
      "model_module_version": "1.5.0",
      "model_name": "DescriptionStyleModel",
      "state": {
       "description_width": ""
      }
     },
     "ebdd4a2564d0488781a52ae63c67a164": {
      "model_module": "@jupyter-widgets/base",
      "model_module_version": "1.2.0",
      "model_name": "LayoutModel",
      "state": {
       "grid_template_areas": "\n                                       \". . . . right \"\n                                        ",
       "grid_template_columns": "20% 20% 20% 20% 20%",
       "width": "100%"
      }
     },
     "eff0b342220740318a09779d3e30b47e": {
      "model_module": "@jupyter-widgets/base",
      "model_module_version": "1.2.0",
      "model_name": "LayoutModel",
      "state": {
       "margin": "0px 0px 0px 37px",
       "width": "600px"
      }
     },
     "f264ac04afb14b53bbee709bbf483034": {
      "model_module": "@jupyter-widgets/base",
      "model_module_version": "1.2.0",
      "model_name": "LayoutModel",
      "state": {
       "margin": "0px 0px 10px 0px"
      }
     },
     "f4e6537e0dba462c97f6553dd89c6a3a": {
      "model_module": "@jupyter-widgets/controls",
      "model_module_version": "1.5.0",
      "model_name": "DescriptionStyleModel",
      "state": {
       "description_width": ""
      }
     },
     "fb84815e417044a588304d6ff0b29b5e": {
      "model_module": "@jupyter-widgets/controls",
      "model_module_version": "1.5.0",
      "model_name": "ButtonModel",
      "state": {
       "button_style": "primary",
       "description": "Clear",
       "layout": "IPY_MODEL_94b42cfaa00a459e9a4305cc20d9eb70",
       "style": "IPY_MODEL_bf7052cf2c314609a341861aec56ee26"
      }
     }
    },
    "version_major": 2,
    "version_minor": 0
   }
  }
 },
 "nbformat": 4,
 "nbformat_minor": 5
}
